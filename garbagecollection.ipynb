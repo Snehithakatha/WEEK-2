{
  "nbformat": 4,
  "nbformat_minor": 0,
  "metadata": {
    "colab": {
      "provenance": [],
      "mount_file_id": "1Sb-s0TAmyDN1E_IT_x3i62JB7ySaRzoV",
      "authorship_tag": "ABX9TyMolETymVaF2/7A5vKah8n6",
      "include_colab_link": true
    },
    "kernelspec": {
      "name": "python3",
      "display_name": "Python 3"
    },
    "language_info": {
      "name": "python"
    }
  },
  "cells": [
    {
      "cell_type": "markdown",
      "metadata": {
        "id": "view-in-github",
        "colab_type": "text"
      },
      "source": [
        "<a href=\"https://colab.research.google.com/github/Snehithakatha/WEEK-2/blob/main/garbagecollection.ipynb\" target=\"_parent\"><img src=\"https://colab.research.google.com/assets/colab-badge.svg\" alt=\"Open In Colab\"/></a>"
      ]
    },
    {
      "cell_type": "code",
      "source": [
        "import pandas as pd\n",
        "import numpy as np\n",
        "\n",
        "import matplotlib.pyplot as plt\n",
        "import seaborn as sns\n",
        "\n",
        "from sklearn.model_selection import train_test_split\n",
        "from sklearn.preprocessing import LabelEncoder, StandardScaler\n",
        "from sklearn.ensemble import RandomForestClassifier\n",
        "from sklearn.metrics import confusion_matrix, classification_report\n",
        "\n",
        "import tensorflow as tf\n",
        "from tensorflow import keras\n"
      ],
      "metadata": {
        "id": "VYZS5EPqXc0i"
      },
      "execution_count": 9,
      "outputs": []
    },
    {
      "cell_type": "code",
      "source": [
        "dataset_dir = r\"/content/drive/MyDrive/TrashType_Image_Dataset\"\n",
        "# Changed from (124, 124) to (256, 256)\n",
        "image_size = (256, 256)\n",
        "batch_size = 32\n",
        "seed = 42"
      ],
      "metadata": {
        "id": "twfV61uuNrU4"
      },
      "execution_count": 10,
      "outputs": []
    },
    {
      "cell_type": "code",
      "source": [
        "train_ds = tf.keras.utils.image_dataset_from_directory(\n",
        "    dataset_dir,\n",
        "    validation_split=0.2,\n",
        "    subset=\"training\",\n",
        "    seed=seed,\n",
        "    shuffle=True,\n",
        "    image_size=image_size,\n",
        "    batch_size=batch_size\n",
        ")\n",
        "\n",
        "val_ds = tf.keras.utils.image_dataset_from_directory(\n",
        "    dataset_dir,\n",
        "    validation_split=0.2,\n",
        "    subset=\"validation\",\n",
        "    seed=seed,\n",
        "    shuffle=True,\n",
        "    image_size=image_size,\n",
        "    batch_size=batch_size\n",
        ")"
      ],
      "metadata": {
        "colab": {
          "base_uri": "https://localhost:8080/"
        },
        "id": "AYW9K5ZNOY1l",
        "outputId": "0a44c3c5-d5b8-4a75-933d-ff13a66a0057"
      },
      "execution_count": 11,
      "outputs": [
        {
          "output_type": "stream",
          "name": "stdout",
          "text": [
            "Found 18 files belonging to 1 classes.\n",
            "Using 15 files for training.\n",
            "Found 18 files belonging to 1 classes.\n",
            "Using 3 files for validation.\n"
          ]
        }
      ]
    },
    {
      "cell_type": "code",
      "source": [
        "val_batches = tf.data.experimental.cardinality(val_ds).numpy()\n",
        "split_index = max(1, val_batches // 2)  # Prevents test_ds from being empty\n",
        "\n",
        "test_ds = val_ds.take(split_index)\n",
        "val_dat = val_ds.skip(split_index)\n",
        "\n",
        "test_ds_eval = test_ds.cache().prefetch(tf.data.AUTOTUNE)\n",
        "val_dat = val_dat.cache().prefetch(tf.data.AUTOTUNE)"
      ],
      "metadata": {
        "id": "EVXBiGsrOZco"
      },
      "execution_count": 12,
      "outputs": []
    },
    {
      "cell_type": "code",
      "source": [
        "import numpy as np\n",
        "from sklearn.utils.class_weight import compute_class_weight\n",
        "\n",
        "# Flatten all labels into a single array\n",
        "all_labels = []\n",
        "for _, labels in train_ds:\n",
        "    all_labels.extend(labels.numpy())\n",
        "\n",
        "# Compute class weights\n",
        "class_weight_array = compute_class_weight(\n",
        "    class_weight=\"balanced\",\n",
        "    classes=np.unique(all_labels),\n",
        "    y=all_labels\n",
        ")\n",
        "class_weights = {i: w for i, w in enumerate(class_weight_array)}"
      ],
      "metadata": {
        "id": "wSbfP7rXOdw8"
      },
      "execution_count": 13,
      "outputs": []
    },
    {
      "cell_type": "code",
      "source": [
        "from tensorflow.keras import layers\n",
        "from tensorflow.keras.models import Sequential\n",
        "\n",
        "data_augmentation = Sequential([\n",
        "    layers.RandomFlip(\"horizontal\"),\n",
        "    layers.RandomRotation(0.15),\n",
        "    layers.RandomZoom(0.2),\n",
        "    layers.RandomTranslation(0.1, 0.1),\n",
        "    layers.RandomContrast(0.1),\n",
        "    layers.RandomBrightness(0.2)\n",
        "])"
      ],
      "metadata": {
        "id": "HVh4QMQfOlPT"
      },
      "execution_count": 14,
      "outputs": []
    },
    {
      "cell_type": "code",
      "source": [
        "# Count percentage distribution\n",
        "def count_distribution(dataset, class_names):\n",
        "    total = 0\n",
        "    counts = {name: 0 for name in class_names}\n",
        "    for _, labels in dataset:\n",
        "        for label in labels.numpy():\n",
        "            class_name = class_names[label]\n",
        "            counts[class_name] += 1\n",
        "            total += 1\n",
        "    for k in counts:\n",
        "        counts[k] = round((counts[k] / total) * 100, 2)\n",
        "    return counts\n",
        "\n",
        "# Plot distribution\n",
        "def simple_bar_plot(dist, title):\n",
        "    import matplotlib.pyplot as plt\n",
        "    plt.bar(dist.keys(), dist.values(), color='cornflowerblue')\n",
        "    plt.title(title)\n",
        "    plt.ylabel('Percentage (%)')\n",
        "    plt.xticks(rotation=45)\n",
        "    plt.ylim(0, 100)\n",
        "    plt.tight_layout()\n",
        "    plt.show()\n",
        "\n",
        "train_dist = count_distribution(train_ds, train_ds.class_names)\n",
        "simple_bar_plot(train_dist, \"Training Set Class Distribution (%)\")"
      ],
      "metadata": {
        "colab": {
          "base_uri": "https://localhost:8080/",
          "height": 487
        },
        "id": "AZ6-PngTOq5P",
        "outputId": "d564d9be-d73f-41af-90e5-edd258cfa744"
      },
      "execution_count": 15,
      "outputs": [
        {
          "output_type": "display_data",
          "data": {
            "text/plain": [
              "<Figure size 640x480 with 1 Axes>"
            ],
            "image/png": "[encoded data removed]"
          },
          "metadata": {}
        }
      ]
    },
    {
      "cell_type": "code",
      "source": [],
      "metadata": {
        "id": "vSVIPY1tOrZT"
      },
      "execution_count": 15,
      "outputs": []
    }
  ]
}